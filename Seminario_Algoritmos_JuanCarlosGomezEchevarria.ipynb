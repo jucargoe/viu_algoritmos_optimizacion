{
 "cells": [
  {
   "cell_type": "markdown",
   "metadata": {},
   "source": [
    "# Algoritmos de optimización - Seminario<br>\n",
    "Nombre y Apellidos: Juan Carlos Gómez Echevarría<br>\n",
    "Url: https://github.com/.../03MAIR---Algoritmos-de-Optimizacion---2019/tree/master/SEMINARIO<br>\n",
    "Problema:\n",
    "> 1. Sesiones de doblaje <br>\n",
    "> 2. Organizar los horarios de partidos de La Liga<br>\n",
    "> **3. Combinar cifras y operaciones**\n",
    "\n",
    "Descripción del problema:<br>\n",
    "El problema consiste en analizar el siguiente problema y diseñar un algoritmo que lo resuelve.\n",
    "<br>\n",
    "Disponemos de las 9 cifras del 1 al 9 (excluimos el cero) y de los 4 signos básicos de las operaciones fundamentales: suma(+), resta(-), multiplicación(\\*) y división(/)\n",
    "<br>\n",
    "Debemos combinarlos alternativamente sin repetir ninguno de ellos para obtener un cantidad dada. Un ejemplo sería para obtener el 4:\n",
    "<br>\n",
    "**4+2-6/3*1=4**\n",
    "<br>\n",
    "<br>\n",
    "Debe analizarse el problema para encontrar todos los valores enteros posibles planteando las siguientes cuestiones:\n",
    "- ¿Qué valor máximo y mínimo se pueden obtener según las condiciones del problema?\n",
    "- ¿Es posible encontrar todos los valores enteros posibles entre dicho mínimo y máximo?\n",
    "\n",
    "\n",
    "(*) La respuesta es obligatoria"
   ]
  },
  {
   "cell_type": "code",
   "execution_count": null,
   "metadata": {},
   "outputs": [],
   "source": []
  },
  {
   "cell_type": "markdown",
   "metadata": {
    "id": "3_-exlrTgLd-"
   },
   "source": [
    "## (*)¿Cuantas posibilidades hay sin tener en cuenta las restricciones?\n",
    "## ¿Cuantas posibilidades hay teniendo en cuenta todas las restricciones.\n",
    "\n",
    "\n"
   ]
  },
  {
   "cell_type": "markdown",
   "metadata": {
    "id": "WfCUqJyKhPcw"
   },
   "source": [
    "#### Respuesta"
   ]
  },
  {
   "cell_type": "markdown",
   "metadata": {
    "id": "iq6Fe32MgpDX"
   },
   "source": [
    "- Quitando la restricción de que los operadores y números se pueden repetir pero manteniendo que vamos a mantener el uso de 4 operadores y 5 números, hablamos de un problema de variaciones con repetición, de modo que el número de posibilidades sería, según la formula $VR_m^n = m^n$, $9^5*4^4 = 15.116.544$\n",
    "<br>\n",
    "- Para las posibilidades teniendo en cuenta las restricciones, hablamos de un problema de permutación sin repetición que hace uso de la fórmula $P_n^r = n! \\over r!*(n-r)!$, lo que resulta en $9! \\over r!*(9-5)!$ $ * 4! = 362.880$"
   ]
  },
  {
   "cell_type": "markdown",
   "metadata": {
    "id": "dzynfVJahHoY"
   },
   "source": [
    "## Modelo para el espacio de soluciones\n",
    "\n",
    "### (*) ¿Cual es la estructura de datos que mejor se adapta al problema? Arguméntalo. (Es posible que hayas elegido una al principio y veas la necesidad de cambiar, arguméntalo)\n"
   ]
  },
  {
   "cell_type": "markdown",
   "metadata": {
    "id": "xFIJrOwKi2Ti"
   },
   "source": [
    "#### Respuesta"
   ]
  },
  {
   "cell_type": "markdown",
   "metadata": {},
   "source": [
    "En un principio, la mejor estructura de datos que se adapta al problema serían dos listados, uno para albergar los dígitos a usar y otro para los operadores a usar:"
   ]
  },
  {
   "cell_type": "code",
   "execution_count": 1,
   "metadata": {
    "id": "38c-7-ejhJmA"
   },
   "outputs": [],
   "source": [
    "numbers_list = ['1', '2', '3', '4', '5', '6', '7', '8', '9']\n",
    "operators_list = ['+', '-', '*', '/']"
   ]
  },
  {
   "cell_type": "markdown",
   "metadata": {
    "id": "7Z9U2W7bi-XS"
   },
   "source": [
    "## Según el modelo para el espacio de soluciones\n",
    "### (*)¿Cual es la función objetivo?\n",
    "\n",
    "### (*)¿Es un problema de maximización o minimización?"
   ]
  },
  {
   "cell_type": "markdown",
   "metadata": {
    "id": "hBalWLM7j1_d"
   },
   "source": [
    "#### Respuesta"
   ]
  },
  {
   "cell_type": "markdown",
   "metadata": {
    "id": "pDA-rg3Gj5Lz"
   },
   "source": [
    "1. Función objetivo: No hay una función objetivo, ya que lo que se pretende es encontrar la operación necesaria para obtener un resultado posible.\n",
    "2. Esto no lo considero un problema de maximización o minimización, ya que debemos encontrar el resultado exacto del problema planteado."
   ]
  },
  {
   "cell_type": "markdown",
   "metadata": {
    "id": "rlnTYgY1j6I2"
   },
   "source": [
    "## Diseña un algoritmo para resolver el problema por fuerza bruta"
   ]
  },
  {
   "cell_type": "markdown",
   "metadata": {
    "id": "70rDgxYXkC8r"
   },
   "source": [
    "#### Respuesta"
   ]
  },
  {
   "cell_type": "code",
   "execution_count": 2,
   "metadata": {
    "id": "CJb5sQ0qkENy"
   },
   "outputs": [
    {
     "name": "stdout",
     "output_type": "stream",
     "text": [
      "Solución encontrada por fuerza bruta: 1-2*3/6+4\n",
      "Iteraciones necesarias: 250\n"
     ]
    }
   ],
   "source": [
    "import itertools\n",
    "# Establezco el resultado que quiero encontrar\n",
    "expected_result = 4.0\n",
    "\n",
    "# Hago todas las posibles permutaciones del listado de números y de operadores para obtener todas las combinaciones de números y operadores que se puede\n",
    "numbers_combinations = list(itertools.permutations(numbers_list, 5))\n",
    "operators_combinations = list(itertools.permutations(operators_list))\n",
    "\n",
    "# Creo variables para guardar datos\n",
    "iterations = 0\n",
    "solution_found = None\n",
    "\n",
    "# Bucle de fuerza bruta. Itero por el listado de números y, a su vez, por el listado de operadores.\n",
    "# De esta forma, se prueban todas las combinaciones posibles\n",
    "for number in numbers_combinations:\n",
    "    for operator in operators_combinations:\n",
    "        iterations += 1\n",
    "\n",
    "        # Creo la operación para luego consultar el resultado con eval\n",
    "        solution = number[0]+operator[0]+number[1]+operator[1]+number[2]+operator[2]+number[3]+operator[3]+number[4]\n",
    "        \n",
    "        # Compruebo que el resultado de la operación coincida con el resultado deseado. Si coincide, se guarda la solución y se para la ejecución del bucle\n",
    "        if eval(solution) == expected_result:\n",
    "            solution_found = solution\n",
    "            break\n",
    "    \n",
    "    if solution_found:\n",
    "        break\n",
    "\n",
    "# Muestro los resultados\n",
    "print(\"Solución encontrada por fuerza bruta:\", str(solution_found))\n",
    "print(\"Iteraciones necesarias:\", str(iterations))"
   ]
  },
  {
   "cell_type": "markdown",
   "metadata": {
    "id": "tgrnsC2nkFa8"
   },
   "source": [
    "## Calcula la complejidad del algoritmo por fuerza bruta"
   ]
  },
  {
   "cell_type": "markdown",
   "metadata": {
    "id": "9eUd3xwckP68"
   },
   "source": [
    "#### Respuesta"
   ]
  },
  {
   "cell_type": "markdown",
   "metadata": {
    "id": "rvZWwL-ckRST"
   },
   "source": [
    "La complejidad es $O(n^2)$ porque la solución por fuerza bruta consiste en dos bucles anidados que probarán todas las combinaciones de números y operadores posibles hasta encontrar una solución."
   ]
  },
  {
   "cell_type": "markdown",
   "metadata": {
    "id": "txbrmLmskReM"
   },
   "source": [
    "## (*)Diseña un algoritmo que mejore la complejidad del algoritmo por fuerza bruta. Argumenta porque crees que mejora el algoritmo por fuerza bruta"
   ]
  },
  {
   "cell_type": "markdown",
   "metadata": {
    "id": "hLrVwt5QkZPD"
   },
   "source": [
    "#### Respuesta"
   ]
  },
  {
   "cell_type": "code",
   "execution_count": 3,
   "metadata": {
    "id": "m1eyM21Vkabg"
   },
   "outputs": [
    {
     "name": "stdout",
     "output_type": "stream",
     "text": [
      "Solución encontrada: 6/3*4+5-9\n",
      "Iteraciones requeridas: 10\n"
     ]
    }
   ],
   "source": [
    "# Creación de algoritmo que intenta buscar la solución mediante combinaciones aleatorias\n",
    "import random\n",
    "\n",
    "# Inicialización de variables necesarias\n",
    "iterations = 0\n",
    "max_iterations = 1000 # Criterio de parada\n",
    "expected_result = 4.0\n",
    "discarded_solutions = {}\n",
    "solution_found = None\n",
    "\n",
    "# Bucle que se ejecutará mientras no se encuentre una solución valida y no se cumpla el criterio de parada\n",
    "while solution_found is None and max_iterations > iterations:\n",
    "    iterations += 1\n",
    "    \n",
    "    # Genero una muestra aleatoria de 5 elementos a partir del vector de números\n",
    "    numbers = random.sample(numbers_list, 5)\n",
    "\n",
    "    # Hago un reordenamiento aleatorio del vector de operadores, ya que lo usaremos al completo\n",
    "    operators = random.sample(operators_list, len(operators_list))\n",
    "\n",
    "    # Combino ambas muestras anteriores para crear la fórmula matemática\n",
    "    possible_solution = numbers[0]+operators[0]+numbers[1]+operators[1]+numbers[2]+operators[2]+numbers[3]+operators[3]+numbers[4]\n",
    "\n",
    "    # Compruebo que la solución no se ha encontrado anteriormente\n",
    "    if possible_solution not in discarded_solutions:\n",
    "        # Si el resultado de la operación matématica es igual al esperado, se ha encontrado una solución.\n",
    "        # Si no, se guarda la solución no valida en una lista y se continua con la ejecución\n",
    "        if eval(possible_solution) == expected_result:\n",
    "            solution_found = possible_solution\n",
    "        else:\n",
    "            discarded_solutions[possible_solution] = eval(possible_solution)\n",
    "\n",
    "if solution_found:\n",
    "    print(\"Solución encontrada:\", solution_found)\n",
    "    print(\"Iteraciones requeridas:\", iterations)\n",
    "else:\n",
    "    print(\"No se ha encontrado una solución para el número de iteraciones solicitado\")"
   ]
  },
  {
   "cell_type": "markdown",
   "metadata": {},
   "source": [
    "Este algoritmo mejora al de fuerza bruta porque tiene menor complejidad, ya que se hace uso de un solo bucle, en lugar de dos como hace el de fuerza bruta. Por otro lado, y como se puede observar, al buscarse las soluciones de manera aleatoria puede ser que se encuentre una solución en muy pocas iteraciones. También cabe destacar que esto aplica para las restricciones de este problema, pero si tuviera menos restricciones, el algoritmo de fuerza bruta podría no encontrar una solución en un tiempo finito, mientras que este algoritmo tiene más probabilidades de encontrarla."
   ]
  },
  {
   "cell_type": "markdown",
   "metadata": {
    "id": "eGDB4K6uk1iN"
   },
   "source": [
    "## (*)Calcula la complejidad del algoritmo"
   ]
  },
  {
   "cell_type": "markdown",
   "metadata": {
    "id": "NhpTh_BPk1ms"
   },
   "source": [
    "#### Respuesta"
   ]
  },
  {
   "cell_type": "markdown",
   "metadata": {
    "id": "nREzhkStlCq8"
   },
   "source": [
    "La complejidad del algoritmo es $O(n)$ porque se hace uso de un solo bucle while."
   ]
  },
  {
   "cell_type": "markdown",
   "metadata": {
    "id": "3M6QjTsSkmYe"
   },
   "source": [
    "## Según el problema (y tenga sentido), diseña un juego de datos de entrada aleatorios"
   ]
  },
  {
   "cell_type": "markdown",
   "metadata": {
    "id": "Jc3_OlyNkvjZ"
   },
   "source": [
    "#### Respuesta"
   ]
  },
  {
   "cell_type": "markdown",
   "metadata": {
    "id": "sJ-N2etjkyWc"
   },
   "source": [
    "En este caso, no tiene sentido diseñar un juego de datos de entrada aleatorio porque los datos de entrada tienen que ser siempre los mismos y da igual el orden en el que se pongan, ya que se probarán todas las combinaciones posibles."
   ]
  },
  {
   "cell_type": "markdown",
   "metadata": {
    "id": "zy5ZROmjlGo1"
   },
   "source": [
    "## Aplica el algoritmo al juego de datos generado"
   ]
  },
  {
   "cell_type": "markdown",
   "metadata": {
    "id": "_Cmj-PVylMsa"
   },
   "source": [
    "#### Respuesta"
   ]
  },
  {
   "cell_type": "markdown",
   "metadata": {
    "id": "Jkx8GeiYlUz1"
   },
   "source": [
    "Tal y como se ha explicado en el apartado anterior, no es necesario."
   ]
  },
  {
   "cell_type": "markdown",
   "metadata": {
    "id": "eTFWUJQrtGcv"
   },
   "source": [
    "## Enumera las referencias que has utilizado (si ha sido necesario) para llevar a cabo el trabajo"
   ]
  },
  {
   "cell_type": "markdown",
   "metadata": {
    "id": "YKQ_mRBttWsP"
   },
   "source": [
    "#### Respuesta"
   ]
  },
  {
   "cell_type": "markdown",
   "metadata": {},
   "source": [
    "La única referencia que he usado ha sido el manual de la asignatura."
   ]
  },
  {
   "cell_type": "markdown",
   "metadata": {
    "id": "kAkDPUyRtYyH"
   },
   "source": [
    "## Describe brevemente las líneas de como crees que es posible avanzar en el estudio del problema. Ten en cuenta incluso posibles variaciones del problema y/o variaciones al alza del tamaño"
   ]
  },
  {
   "cell_type": "markdown",
   "metadata": {
    "id": "IE0uZmo-tZu-"
   },
   "source": [
    "#### Respuesta"
   ]
  },
  {
   "cell_type": "markdown",
   "metadata": {},
   "source": [
    "En un principio, no veo una manera mejor de encontrar una solución a este problema, ya que lo que hay que hacer es encontrar una combinación de operaciones que dé como resultado un número solicitado, por lo que pienso que sólo se puede hacer por fuerza bruta o mediante combinaciones aleatorias. En el caso de que el problema tuviera una variación al alza, como puede ser quitando las restricciones o, incluso, repitiendo todos los elementos de los conjuntos de datos tantas veces como se desee, pues hablamos de que el algoritmo de fuerza bruta tendría que buscar la solución en un espacio de soluciones mayor a 15 millones, lo que lo hace que su uso sea casi inviable y optaría por el algoritmo de búsqueda aleatoria."
   ]
  },
  {
   "cell_type": "markdown",
   "metadata": {},
   "source": [
    "## Preguntas adicionales"
   ]
  },
  {
   "cell_type": "markdown",
   "metadata": {},
   "source": [
    "### ¿Qué valor máximo y mínimo se pueden obtener según las condiciones del problema?\n",
    "#### Respuesta"
   ]
  },
  {
   "cell_type": "code",
   "execution_count": 4,
   "metadata": {},
   "outputs": [],
   "source": [
    "solutions = {}\n",
    "for number in numbers_combinations:\n",
    "    for operator in operators_combinations:\n",
    "        solution = number[0]+operator[0]+number[1]+operator[1]+number[2]+operator[2]+number[3]+operator[3]+number[4]\n",
    "        solutions[solution] = eval(solution)"
   ]
  },
  {
   "cell_type": "code",
   "execution_count": 5,
   "metadata": {},
   "outputs": [
    {
     "name": "stdout",
     "output_type": "stream",
     "text": [
      "Valor mínimo: -69.0\n",
      "Valor máximo: 77.0\n"
     ]
    }
   ],
   "source": [
    "values = list(set(solutions.values()))\n",
    "values.sort()\n",
    "integers = [x for x in values if x % 1 == 0]\n",
    "print(\"Valor mínimo:\", min(integers))\n",
    "print(\"Valor máximo:\", max(integers))"
   ]
  },
  {
   "cell_type": "markdown",
   "metadata": {},
   "source": [
    "### ¿Es posible encontrar todos los valores enteros posibles entre dicho mínimo y máximo?\n",
    "#### Respuesta"
   ]
  },
  {
   "cell_type": "code",
   "execution_count": 6,
   "metadata": {},
   "outputs": [
    {
     "name": "stdout",
     "output_type": "stream",
     "text": [
      "[-69.0, -68.0, -67.0, -66.0, -65.0, -64.0, -63.0, -62.0, -61.0, -60.0, -59.0, -58.0, -57.0, -56.0, -55.0, -54.0, -53.0, -52.0, -51.0, -50.0, -49.0, -48.0, -47.0, -46.0, -45.0, -44.0, -43.0, -42.0, -41.0, -40.0, -39.0, -38.0, -37.0, -36.0, -35.0, -34.0, -33.0, -32.0, -31.0, -30.0, -29.0, -28.0, -27.0, -26.0, -25.0, -24.0, -23.0, -22.0, -21.0, -20.0, -19.0, -18.0, -17.0, -16.0, -15.0, -14.0, -13.0, -12.0, -11.0, -10.0, -9.0, -8.0, -7.0, -6.0, -5.0, -4.0, -3.0, -2.0, -1.0, 0.0, 1.0, 2.0, 3.0, 4.0, 5.0, 6.0, 7.0, 8.0, 9.0, 10.0, 11.0, 12.0, 13.0, 14.0, 15.0, 16.0, 17.0, 18.0, 19.0, 20.0, 21.0, 22.0, 23.0, 24.0, 25.0, 26.0, 27.0, 28.0, 29.0, 30.0, 31.0, 32.0, 33.0, 34.0, 35.0, 36.0, 37.0, 38.0, 39.0, 40.0, 41.0, 42.0, 43.0, 44.0, 45.0, 46.0, 47.0, 48.0, 49.0, 50.0, 51.0, 52.0, 53.0, 54.0, 55.0, 56.0, 57.0, 58.0, 59.0, 60.0, 61.0, 62.0, 63.0, 64.0, 65.0, 66.0, 67.0, 68.0, 69.0, 70.0, 71.0, 72.0, 73.0, 74.0, 75.0, 76.0, 77.0]\n",
      "Como se puede observar en la lista anterior, se pueden encontrar todos los valores enteros en el rango del mínimo y el máximo ([-69, 77])\n"
     ]
    }
   ],
   "source": [
    "print(integers)\n",
    "print(\"Como se puede observar en la lista anterior, se pueden encontrar todos los valores enteros en el rango del mínimo y el máximo ([-69, 77])\")"
   ]
  },
  {
   "cell_type": "code",
   "execution_count": null,
   "metadata": {},
   "outputs": [],
   "source": []
  }
 ],
 "metadata": {
  "colab": {
   "provenance": []
  },
  "kernelspec": {
   "display_name": "Python 3 (ipykernel)",
   "language": "python",
   "name": "python3"
  },
  "language_info": {
   "codemirror_mode": {
    "name": "ipython",
    "version": 3
   },
   "file_extension": ".py",
   "mimetype": "text/x-python",
   "name": "python",
   "nbconvert_exporter": "python",
   "pygments_lexer": "ipython3",
   "version": "3.11.5"
  }
 },
 "nbformat": 4,
 "nbformat_minor": 4
}
